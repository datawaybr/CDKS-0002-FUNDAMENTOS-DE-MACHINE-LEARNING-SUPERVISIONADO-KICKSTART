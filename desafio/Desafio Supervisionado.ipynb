{
 "cells": [
  {
   "cell_type": "markdown",
   "id": "4ff5f0ad-5e20-43af-b411-e6467bd2429a",
   "metadata": {},
   "source": [
    "## Desafio Aprendizagem Supervisionada"
   ]
  },
  {
   "cell_type": "markdown",
   "id": "fbc25760-b483-4514-9ff9-d1561b617883",
   "metadata": {},
   "source": [
    "### Desafio\n",
    "- Link:  (referência: https://www.kaggle.com/datasets/jacksondivakarr/phone-classification-dataset/data)\n",
    "  \n",
    "- Descrição: Uma coleção de características que caracterizam telefones celulares, incluindo potência da bateria, especificações da câmera, suporte de rede, memória, dimensões da tela e outros atributos. A coluna 'faixa_de_preço' categoriza os telefones em faixas de preço, tornando este conjunto de dados adequado para tarefas de classificação de telefones celulares e previsão de preço.\n",
    "\n",
    "- Problema de Negócio: Sua empresa precisa de um sistema inteligente que defina qual será a faixa de preço para uma lista de novos produtos que serão lançados ao longo do ano.\n",
    "  \n",
    "- Desafio: Imagine que você foi responsável por essa tarefa e precisa especificar quais serão as faixas de preço desses novos produtos. Para isso, você decidiu construir um classificador (a coluna faixa_de_preço é composta pelas categorias de preço 0, 1, 2, 3). Escolha o melhor algoritmo e explore os melhores resultados\n",
    "\n",
    "- Sugestão extra: Publique esse desafio no seu Git Hub"
   ]
  },
  {
   "cell_type": "code",
   "execution_count": null,
   "id": "81d58252-f176-46a4-b4e9-723165acafd1",
   "metadata": {},
   "outputs": [],
   "source": [
    "import pandas as pd"
   ]
  },
  {
   "cell_type": "code",
   "execution_count": null,
   "id": "e0cb6d4f-68f1-48c5-87a6-9fe873453f0e",
   "metadata": {},
   "outputs": [],
   "source": []
  },
  {
   "cell_type": "code",
   "execution_count": null,
   "id": "29257ace-f326-42a6-a9b2-8ab7e89c92d1",
   "metadata": {},
   "outputs": [],
   "source": []
  },
  {
   "cell_type": "code",
   "execution_count": null,
   "id": "cf0b4020-8349-40d5-92dd-34b055b9e30e",
   "metadata": {},
   "outputs": [],
   "source": []
  }
 ],
 "metadata": {
  "kernelspec": {
   "display_name": "Python 3 (ipykernel)",
   "language": "python",
   "name": "python3"
  },
  "language_info": {
   "codemirror_mode": {
    "name": "ipython",
    "version": 3
   },
   "file_extension": ".py",
   "mimetype": "text/x-python",
   "name": "python",
   "nbconvert_exporter": "python",
   "pygments_lexer": "ipython3",
   "version": "3.10.9"
  }
 },
 "nbformat": 4,
 "nbformat_minor": 5
}
